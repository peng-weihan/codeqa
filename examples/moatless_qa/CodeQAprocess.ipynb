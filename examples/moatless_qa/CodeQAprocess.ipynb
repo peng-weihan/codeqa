{
 "cells": [
  {
   "cell_type": "code",
   "execution_count": 1,
   "id": "6c88d5c2-fa1b-4a26-8381-72c2d9946b54",
   "metadata": {},
   "outputs": [],
   "source": [
    "# import subprocess\n",
    "# import os\n",
    "\n",
    "# result = subprocess.run('bash -c \"source /etc/network_turbo && env | grep proxy\"', shell=True, capture_output=True, text=True)\n",
    "# output = result.stdout\n",
    "# for line in output.splitlines():\n",
    "#     if '=' in line:\n",
    "#         var, value = line.split('=', 1)\n",
    "#         os.environ[var] = value"
   ]
  },
  {
   "cell_type": "code",
   "execution_count": null,
   "id": "python-path-setup",
   "metadata": {},
   "outputs": [],
   "source": [
    "import sys\n",
    "import os\n",
    "\n",
    "# 添加项目根目录到Python路径\n",
    "project_root = os.path.abspath(os.path.join(os.getcwd(), '../..'))\n",
    "if project_root not in sys.path:\n",
    "    sys.path.insert(0, project_root)\n",
    "    print(f\"已添加 {project_root} 到Python路径\")"
   ]
  },
  {
   "cell_type": "code",
   "execution_count": null,
   "id": "0fdd5330",
   "metadata": {},
   "outputs": [],
   "source": []
  },
  {
   "cell_type": "code",
   "execution_count": null,
   "id": "4f8ba095-d1d2-4422-92d3-0ab12f3d3570",
   "metadata": {},
   "outputs": [],
   "source": [
    "import os\n",
    "import json\n",
    "import random\n",
    "from typing import Optional, Dict, Any, List, Callable, Union\n",
    "from pydantic import BaseModel, Field, model_validator\n",
    "from textwrap import dedent\n",
    "from litellm.types.llms.openai import ChatCompletionUserMessage\n",
    "\n",
    "from moatless_qa.benchmark.utils import get_moatless_instance\n",
    "from moatless_qa.completion.model import StructuredOutput, Completion\n",
    "from moatless_qa.completion.completion import CompletionModel, CompletionResponse\n",
    "\n",
    "from moatless_qa.repository.repository import Repository\n",
    "from moatless_qa.benchmark.swebench import create_repository\n",
    "from moatless_qa.index import CodeIndex\n",
    "from moatless_qa.file_context import FileContext\n",
    "from moatless_qa.selector import BestFirstSelector, Selector, SoftmaxSelector, LLMSelector\n",
    "from moatless_qa.selector.feedback_selector import FeedbackSelector\n",
    "from moatless_qa.feedback import FeedbackGenerator\n",
    "from moatless_qa.feedback.feedback_agent import FeedbackAgent\n",
    "from moatless_qa.value_function.base import ValueFunction\n",
    "\n",
    "from moatless_qa.actions.action import Action\n",
    "from moatless_qa.actions import FindClass, FindFunction, FindCodeSnippet, SemanticSearch, ViewCode, Finish, FindCalledObject\n",
    "from moatless_qa.agent.code_qa_agent import CodeQAAgent\n",
    "from moatless_qa.agent.code_qa_prompts import *\n",
    "from moatless_qa.agent.agent import ActionAgent\n",
    "from moatless_qa.code_qa.search_tree import CodeQASearchTree\n",
    "from moatless_qa.completion.completion import (\n",
    "    LLMResponseFormat,\n",
    "    CompletionModel,\n",
    ")\n",
    "from moatless_qa.schema import MessageHistoryType\n",
    "from moatless_qa.agent.settings import AgentSettings\n",
    "from moatless_qa.node import Node, ActionStep, FeedbackData\n",
    "from moatless_qa.expander import Expander\n",
    "from moatless_qa.value_function.model import Reward\n",
    "from moatless_qa.exceptions import RuntimeError, RejectError"
   ]
  },
  {
   "cell_type": "code",
   "execution_count": null,
   "id": "b30f9ff5-f7fc-4740-9502-8ad261879301",
   "metadata": {},
   "outputs": [],
   "source": []
  },
  {
   "cell_type": "code",
   "execution_count": null,
   "id": "919a341c-9ab3-4ea8-8fb2-bc630f9f049e",
   "metadata": {},
   "outputs": [],
   "source": [
    "import os\n",
    "from dotenv import load_dotenv\n",
    "import os\n",
    "\n",
    "# 加载 .env 文件\n",
    "load_dotenv()\n",
    "os.environ[\"REPO_DIR\"] = \"./tmp/repos\"\n",
    "os.environ[\"MOATLESS_INDEX_DIR\"] = \"./tmp/index_store\"\n",
    "completion_model = CompletionModel(model=\"deepseek/deepseek-chat\", temperature=0.7)\n",
    "instance_id = \"sphinx-doc__sphinx-8551\"\n",
    "# completion_model = CompletionModel(model=\"openai/deepseek-ai/DeepSeek-V3\", model_base_url=os.getenv(\"CUSTOM_LLM_API_BASE\"), model_api_key=os.getenv(\"CUSTOM_LLM_API_KEY\"), temperature=0.7)\n",
    "# completion_model = CompletionModel(model=\"openai/moonshot-v1-32k\", model_base_url=os.getenv(\"CUSTOM_LLM_API_BASE\"), model_api_key=os.getenv(\"CUSTOM_LLM_API_KEY\"), temperature=0.7)\n",
    "instance = get_moatless_instance(split='verified',instance_id=instance_id)  # 获得的instance是本地下载下来有点删改属性的swe-bench\n",
    "\n",
    "repository = create_repository(instance)\n",
    "\n",
    "code_index = CodeIndex.from_index_name(\n",
    "    instance[\"instance_id\"], file_repo=repository\n",
    ")\n",
    "file_context = FileContext(repo=repository)"
   ]
  },
  {
   "cell_type": "code",
   "execution_count": null,
   "id": "a36893fd-1c3f-48e4-a9bd-ccc9582a32c4",
   "metadata": {
    "collapsed": true,
    "jupyter": {
     "outputs_hidden": true
    }
   },
   "outputs": [],
   "source": [
    "print('Problem Statement :\\n{}'.format(instance['problem_statement']))\n",
    "print('--'*100)\n",
    "print('Golden Patch:\\n{}'.format(instance['golden_patch']))"
   ]
  },
  {
   "cell_type": "code",
   "execution_count": null,
   "id": "e9805f32-c550-4b5b-9b13-4ebf90cdd860",
   "metadata": {
    "collapsed": true,
    "jupyter": {
     "outputs_hidden": true
    }
   },
   "outputs": [],
   "source": [
    "\n",
    "get_json('/tmp/trajectory/django__django-10914/2025-02-26_trajectory.json')"
   ]
  },
  {
   "cell_type": "code",
   "execution_count": 5,
   "id": "51a5b053-a7cf-443d-ad0c-694596001b19",
   "metadata": {},
   "outputs": [],
   "source": [
    "from datetime import datetime\n",
    "current_date = datetime.now().strftime(\"%Y-%m-%d\")\n",
    "instance_path = f'./tmp/trajectory/{instance_id}/'\n",
    "persist_path = f'./tmp/trajectory/{instance_id}/{current_date}_trajectory.json'\n",
    "experience_path = f\"./tmp/experience/{instance_id}/{current_date}_experience.json\""
   ]
  },
  {
   "cell_type": "code",
   "execution_count": null,
   "id": "879bda56-0dc2-4e06-b765-40e70ed2aeb7",
   "metadata": {},
   "outputs": [],
   "source": [
    "print(completion_model)\n",
    "completion_model.response_format = LLMResponseFormat.TOOLS\n",
    "print(completion_model)"
   ]
  },
  {
   "cell_type": "code",
   "execution_count": null,
   "id": "dc1ae0bf-a930-49e4-b167-7db05ed75eff",
   "metadata": {},
   "outputs": [],
   "source": [
    "reflection_model = completion_model.clone(\n",
    "    response_format=completion_model.response_format\n",
    ")\n",
    "reflection_model"
   ]
  },
  {
   "cell_type": "code",
   "execution_count": 10,
   "id": "8098e78a-0cd8-41cb-b177-ef59f768c83e",
   "metadata": {},
   "outputs": [],
   "source": [
    "# def generate_summary(repo, instance, model, example):\n",
    "#     messages = []\n",
    "#     messages.append({\"role\": \"user\", \"content\": summarize_prompt.format(example=example, repo=repo, description=instance['problem_statement'])})\n",
    "#     output = model._litellm_base_completion(\n",
    "#                     messages=messages\n",
    "#                 )\n",
    "#     return output"
   ]
  },
  {
   "cell_type": "code",
   "execution_count": 16,
   "id": "65221244-1b4e-4708-b98a-27912e20910a",
   "metadata": {},
   "outputs": [],
   "source": [
    "# summary = generate_summary('astropy', instance, reflection_model, example1)"
   ]
  },
  {
   "cell_type": "code",
   "execution_count": 17,
   "id": "345afc81-1489-4ce3-90d1-effbc8a763c7",
   "metadata": {},
   "outputs": [],
   "source": [
    "# summary = summary.choices[0].message.content"
   ]
  },
  {
   "cell_type": "code",
   "execution_count": 20,
   "id": "117ac739-2a01-4f86-aa55-038b7b9d9932",
   "metadata": {},
   "outputs": [],
   "source": [
    "# messages = []\n",
    "# messages.insert(0, {\"role\": \"system\", \"content\": planner_prompt})\n",
    "# messages.append({\"role\": \"user\", \"content\": f\"Issue:\\n{instance['problem_statement']}\"})\n",
    "# output = reflection_model._litellm_base_completion(\n",
    "#                 messages=messages, response_format={\"type\": \"json_object\"}\n",
    "#             )"
   ]
  },
  {
   "cell_type": "code",
   "execution_count": null,
   "id": "570adae6-dcec-446c-a933-05a20c8a32af",
   "metadata": {
    "collapsed": true,
    "jupyter": {
     "outputs_hidden": true
    }
   },
   "outputs": [],
   "source": [
    "# plans = json.loads(output.choices[0].message.content)\n",
    "# for i, j in plans.items():\n",
    "#     print(i)\n",
    "#     print(j)\n",
    "#     print('\\n')"
   ]
  },
  {
   "cell_type": "code",
   "execution_count": 8,
   "id": "78cf4491-26cf-4b3c-a3ab-d8dd72570453",
   "metadata": {},
   "outputs": [],
   "source": [
    "value_function = ValueFunction(completion_model=completion_model)"
   ]
  },
  {
   "cell_type": "code",
   "execution_count": 9,
   "id": "82cd6592-fda5-4f0b-b117-0ce304fbda89",
   "metadata": {},
   "outputs": [],
   "source": [
    "actions = [\n",
    "    FindClass(completion_model=completion_model, code_index=code_index, repository=repository),\n",
    "    FindFunction(completion_model=completion_model, code_index=code_index, repository=repository),\n",
    "    FindCodeSnippet(completion_model=completion_model, code_index=code_index, repository=repository),\n",
    "    FindCalledObject(completion_model=completion_model, code_index=code_index, repository=repository),\n",
    "    SemanticSearch(completion_model=completion_model, code_index=code_index, repository=repository),\n",
    "    ViewCode(completion_model=completion_model, repository=repository),\n",
    "    Finish(),\n",
    "    # Reject()\n",
    "]\n",
    "\n",
    "system_prompt = QA_AGENT_ROLE\n",
    "if completion_model.response_format == LLMResponseFormat.REACT:\n",
    "    system_prompt += REACT_CORE_OPERATION_RULES\n",
    "elif completion_model.response_format == LLMResponseFormat.TOOLS:\n",
    "    system_prompt += REACT_GUIDELINES\n",
    "workflow_prompt = generate_workflow_prompt(actions)\n",
    "system_prompt += workflow_prompt + generate_guideline_prompt() + ADDITIONAL_NOTES + RESPOENSE_FORMAT"
   ]
  },
  {
   "cell_type": "code",
   "execution_count": 10,
   "id": "9ca5b75e-98cb-4ea6-83ca-2283435e5dd7",
   "metadata": {},
   "outputs": [],
   "source": [
    "# system_prompt += experience_prompt.format(experience)"
   ]
  },
  {
   "cell_type": "code",
   "execution_count": null,
   "id": "889ce0e8-4772-411a-8509-d117591a3ea4",
   "metadata": {},
   "outputs": [],
   "source": [
    "print(system_prompt)"
   ]
  },
  {
   "cell_type": "code",
   "execution_count": null,
   "id": "205af05b-6597-4f8b-aded-7168118016a0",
   "metadata": {},
   "outputs": [],
   "source": [
    "agent = CodeQAAgent(system_prompt=system_prompt, actions=actions, completion=completion_model)\n",
    "# # 我认为应该是下面这种初始化，用的是内部的prompt而不是手动system_prompt，但是测试的时候是用了上面的初始化以及SIMPLE_CODE_PROMPT\n",
    "# agent = CodingAgent.create(repository=repository, completion_model=completion_model)\n",
    "# agent.actions = actions    # if not， 它内部的action没有code index，也没有repository"
   ]
  },
  {
   "cell_type": "code",
   "execution_count": 11,
   "id": "d0da41c0-3694-4a9a-ab8c-154dc9d7f117",
   "metadata": {},
   "outputs": [],
   "source": [
    "feedback_generator = FeedbackAgent(\n",
    "                completion_model=agent.completion, instance_dir=instance_path\n",
    "            )"
   ]
  },
  {
   "cell_type": "code",
   "execution_count": 12,
   "id": "03bfb01e-9acc-48b0-84e8-b91bc9027aff",
   "metadata": {},
   "outputs": [],
   "source": [
    "value_function = ValueFunction(completion_model=completion_model)\n",
    "search_tree = CodeQASearchTree.create(\n",
    "    # message=instance[\"problem_statement\"],\n",
    "    message=\"What is the render function of the texts?\",\n",
    "    agent=agent,\n",
    "    file_context=file_context,\n",
    "    value_function=value_function,\n",
    "    feedback_generator=feedback_generator,\n",
    "    max_iterations=100,\n",
    "    max_expansions=3,\n",
    "    max_depth=25,\n",
    "    persist_path=persist_path,\n",
    ")"
   ]
  },
  {
   "cell_type": "code",
   "execution_count": null,
   "id": "e7699af2-74c7-445b-8565-3344c33036cb",
   "metadata": {},
   "outputs": [],
   "source": [
    "print(agent.generate_system_prompt())"
   ]
  },
  {
   "cell_type": "markdown",
   "id": "908cb906-fc2b-499a-b23c-05cf4a12b547",
   "metadata": {},
   "source": [
    "## First Rollout"
   ]
  },
  {
   "cell_type": "code",
   "execution_count": null,
   "id": "92fd8cb7-4f9c-4704-b20f-837064539e39",
   "metadata": {},
   "outputs": [],
   "source": [
    "node = search_tree._select(search_tree.root)\n",
    "node"
   ]
  },
  {
   "cell_type": "code",
   "execution_count": null,
   "id": "baa21a43-79a0-4f4a-9a80-a56adf333548",
   "metadata": {},
   "outputs": [],
   "source": [
    "new_node = search_tree._expand(node)\n",
    "new_node"
   ]
  },
  {
   "cell_type": "code",
   "execution_count": null,
   "id": "ffb2fe6e-243b-4ced-a074-bc9597fb1f7e",
   "metadata": {},
   "outputs": [],
   "source": [
    "search_tree._simulate(new_node, None)"
   ]
  },
  {
   "cell_type": "code",
   "execution_count": 24,
   "id": "e1259a0a-235f-4241-97b9-304755f840d2",
   "metadata": {},
   "outputs": [],
   "source": [
    "search_tree._backpropagate(new_node)"
   ]
  },
  {
   "cell_type": "code",
   "execution_count": null,
   "id": "7862ee51-8e02-4cd3-8475-d52ddd52e855",
   "metadata": {},
   "outputs": [],
   "source": [
    "search_tree.display_uct(new_node)"
   ]
  },
  {
   "cell_type": "code",
   "execution_count": 19,
   "id": "1eb92c30-ab3a-4b8c-9b47-5c7590903442",
   "metadata": {},
   "outputs": [],
   "source": [
    "# search_tree.persist()"
   ]
  },
  {
   "cell_type": "markdown",
   "id": "cd5f3383-fbfd-437b-a7e2-129116657d03",
   "metadata": {},
   "source": [
    "## Second Rollout"
   ]
  },
  {
   "cell_type": "code",
   "execution_count": null,
   "id": "00167deb-ea9c-4519-a035-0ee4696a9451",
   "metadata": {},
   "outputs": [],
   "source": [
    "search_tree.is_finished()"
   ]
  },
  {
   "cell_type": "code",
   "execution_count": 19,
   "id": "8b3511ce-c4f7-439d-a02e-80ef3697da07",
   "metadata": {},
   "outputs": [],
   "source": [
    "second_node = search_tree._select(search_tree.root)"
   ]
  },
  {
   "cell_type": "code",
   "execution_count": null,
   "id": "814f9863-37ff-4fbe-9453-d18448383216",
   "metadata": {},
   "outputs": [],
   "source": [
    "second_new_node = search_tree._expand(second_node)"
   ]
  },
  {
   "cell_type": "code",
   "execution_count": null,
   "id": "f9bb2b05-2a03-4718-adfd-1eff7a23ba2e",
   "metadata": {},
   "outputs": [],
   "source": [
    "agent.message_generator.generate(second_new_node)"
   ]
  },
  {
   "cell_type": "code",
   "execution_count": null,
   "id": "b5154001-efd4-4e0a-8291-724beb7713ab",
   "metadata": {},
   "outputs": [],
   "source": [
    "search_tree._simulate(second_new_node, None)"
   ]
  },
  {
   "cell_type": "code",
   "execution_count": null,
   "id": "e65cbe03-1a62-4e37-93c5-483d8b3e7bc5",
   "metadata": {},
   "outputs": [],
   "source": [
    "search_tree._backpropagate(second_new_node)"
   ]
  },
  {
   "cell_type": "code",
   "execution_count": null,
   "id": "3c6bfab7-2491-49b4-8a5d-1114331cd725",
   "metadata": {},
   "outputs": [],
   "source": [
    "search_tree.display_uct(second_new_node)"
   ]
  },
  {
   "cell_type": "markdown",
   "id": "3c504454-3d22-49a2-b649-f924c33b3211",
   "metadata": {},
   "source": [
    "## Third Rollout"
   ]
  },
  {
   "cell_type": "code",
   "execution_count": null,
   "id": "3f6f3eac-30ab-4a4c-bd13-9936209302b6",
   "metadata": {},
   "outputs": [],
   "source": [
    "search_tree.is_finished()"
   ]
  },
  {
   "cell_type": "code",
   "execution_count": 29,
   "id": "680d8947-98bd-4564-9425-b5665d00b343",
   "metadata": {},
   "outputs": [],
   "source": [
    "third_node = search_tree._select(search_tree.root)"
   ]
  },
  {
   "cell_type": "code",
   "execution_count": null,
   "id": "520b5944-6433-4ee2-a73f-4d2ea3f31fd3",
   "metadata": {},
   "outputs": [],
   "source": [
    "third_new_node = search_tree._expand(third_node)"
   ]
  },
  {
   "cell_type": "code",
   "execution_count": null,
   "id": "0413c5f8-9ce1-432c-bd7a-a351097fd686",
   "metadata": {},
   "outputs": [],
   "source": [
    "search_tree._simulate(third_new_node, None)"
   ]
  },
  {
   "cell_type": "code",
   "execution_count": 43,
   "id": "daae91ca-fb51-41dc-ac0e-d812c26d66fa",
   "metadata": {},
   "outputs": [],
   "source": [
    "search_tree._backpropagate(third_new_node)"
   ]
  },
  {
   "cell_type": "code",
   "execution_count": null,
   "id": "67e7f145-543c-4e31-bfab-879a16604aa7",
   "metadata": {},
   "outputs": [],
   "source": [
    "print(third_new_node.observation.properties)"
   ]
  },
  {
   "cell_type": "code",
   "execution_count": 45,
   "id": "4fa0fc8a-dccd-44d6-bec2-e353fc38caf7",
   "metadata": {},
   "outputs": [],
   "source": [
    "search_tree.persist()"
   ]
  },
  {
   "cell_type": "markdown",
   "id": "0c244ee7-30be-44b9-9755-7f6f26ef77b8",
   "metadata": {},
   "source": [
    "## Forth Rollout"
   ]
  },
  {
   "cell_type": "code",
   "execution_count": null,
   "id": "b7a7068e-1752-491c-9a62-199ebb5c6855",
   "metadata": {},
   "outputs": [],
   "source": [
    "search_tree.is_finished()"
   ]
  },
  {
   "cell_type": "code",
   "execution_count": 47,
   "id": "441258ba-314c-4416-9a47-4bda186055b8",
   "metadata": {},
   "outputs": [],
   "source": [
    "forth_node = search_tree._select(search_tree.root)"
   ]
  },
  {
   "cell_type": "code",
   "execution_count": null,
   "id": "4045f47c-2aef-47f5-83e3-3f44f814d2bd",
   "metadata": {},
   "outputs": [],
   "source": [
    "forth_new_node = search_tree._expand(forth_node)"
   ]
  },
  {
   "cell_type": "code",
   "execution_count": null,
   "id": "e858b62b-a400-46bf-954d-41d6d56bd343",
   "metadata": {},
   "outputs": [],
   "source": [
    "search_tree._simulate(forth_new_node, None)"
   ]
  },
  {
   "cell_type": "code",
   "execution_count": 51,
   "id": "0c107c10-1769-418d-89f1-40b8b12b791f",
   "metadata": {},
   "outputs": [],
   "source": [
    "search_tree._backpropagate(forth_new_node)"
   ]
  },
  {
   "cell_type": "code",
   "execution_count": null,
   "id": "8a04c547-ac0a-4555-935c-343ea370c1a0",
   "metadata": {},
   "outputs": [],
   "source": [
    "search_tree.display_uct(forth_new_node)"
   ]
  },
  {
   "cell_type": "code",
   "execution_count": 87,
   "id": "93341815-85fa-4e9c-a95b-b47f85840874",
   "metadata": {},
   "outputs": [],
   "source": [
    "# traj = get_trajectory(search_tree)"
   ]
  },
  {
   "cell_type": "code",
   "execution_count": 88,
   "id": "9147d741-2215-4e33-90e3-3bae48a24873",
   "metadata": {},
   "outputs": [],
   "source": [
    "# out = extract_experience('astropy', instance['problem_statement'], traj, reflection_model, failed=True)"
   ]
  },
  {
   "cell_type": "code",
   "execution_count": 49,
   "id": "3fd66837-2b9c-456e-8191-5e3bfd85121f",
   "metadata": {},
   "outputs": [],
   "source": [
    "# get_save_experience(search_tree, reflection_model)"
   ]
  },
  {
   "cell_type": "code",
   "execution_count": 53,
   "id": "6f4b85b7-7154-4973-8c28-528c5045c7aa",
   "metadata": {},
   "outputs": [],
   "source": [
    "search_tree.persist()"
   ]
  },
  {
   "cell_type": "code",
   "execution_count": null,
   "id": "8780dbe6-7814-4e1f-9782-d86fa743083f",
   "metadata": {
    "collapsed": true,
    "jupyter": {
     "outputs_hidden": true
    }
   },
   "outputs": [],
   "source": [
    "# get_trajectory(search_tree.persist_path)"
   ]
  },
  {
   "cell_type": "markdown",
   "id": "d64d4932-ba10-4a8f-b834-9c05f9a5eedf",
   "metadata": {},
   "source": [
    "## Fifth Rollout"
   ]
  },
  {
   "cell_type": "code",
   "execution_count": null,
   "id": "a18649ec-a6ed-4fa5-aa3a-1e1a5eaa3aa6",
   "metadata": {},
   "outputs": [],
   "source": [
    "search_tree.is_finished()"
   ]
  },
  {
   "cell_type": "code",
   "execution_count": 55,
   "id": "5465b9e9-20f0-4d63-9672-31294104d528",
   "metadata": {},
   "outputs": [],
   "source": [
    "fifth_node = search_tree._select(search_tree.root)"
   ]
  },
  {
   "cell_type": "code",
   "execution_count": null,
   "id": "cb6f5b84-8700-40e6-b2dd-53b02ba269b7",
   "metadata": {},
   "outputs": [],
   "source": [
    "fifth_new_node = search_tree._expand(fifth_node)"
   ]
  },
  {
   "cell_type": "code",
   "execution_count": null,
   "id": "9421090a-ab91-4f2a-a100-ecaeab089184",
   "metadata": {},
   "outputs": [],
   "source": [
    "search_tree._simulate(fifth_new_node, None)"
   ]
  },
  {
   "cell_type": "code",
   "execution_count": 58,
   "id": "4a205776-d1ad-48bc-8bfe-ebd7f9ca541d",
   "metadata": {},
   "outputs": [],
   "source": [
    "search_tree._backpropagate(fifth_new_node)"
   ]
  },
  {
   "cell_type": "code",
   "execution_count": null,
   "id": "4684ceb6-4cfd-4643-ab7b-2f01366881aa",
   "metadata": {},
   "outputs": [],
   "source": [
    "search_tree.display_uct(fifth_new_node)"
   ]
  },
  {
   "cell_type": "code",
   "execution_count": 60,
   "id": "cc0df79b-c5f0-49d7-8fdc-03ff660bc25d",
   "metadata": {},
   "outputs": [],
   "source": [
    "traj = get_trajectory(search_tree)"
   ]
  },
  {
   "cell_type": "code",
   "execution_count": null,
   "id": "4ad186e6-19fc-443e-b11f-cd02772018a6",
   "metadata": {},
   "outputs": [],
   "source": [
    "# print(fifth_new_node.observation.properties['diff'])"
   ]
  },
  {
   "cell_type": "code",
   "execution_count": 61,
   "id": "a3b5af5a-ef1b-42c9-8c18-ddec4017750f",
   "metadata": {},
   "outputs": [],
   "source": [
    "search_tree.persist()"
   ]
  },
  {
   "cell_type": "markdown",
   "id": "a01f7492-59c1-4a7f-93a3-05cab6b2e5b6",
   "metadata": {},
   "source": [
    "## Sixth Rollout"
   ]
  },
  {
   "cell_type": "code",
   "execution_count": null,
   "id": "327e90a8-bcce-459b-a3ae-eed7f7c30862",
   "metadata": {},
   "outputs": [],
   "source": [
    "search_tree.is_finished()"
   ]
  },
  {
   "cell_type": "code",
   "execution_count": 63,
   "id": "a222bc50-64ab-4f1f-8b10-3d030db01f9a",
   "metadata": {},
   "outputs": [],
   "source": [
    "sixth_node = search_tree._select(search_tree.root)"
   ]
  },
  {
   "cell_type": "code",
   "execution_count": null,
   "id": "3377f9a9-5bb9-479a-91a8-69944b3261db",
   "metadata": {},
   "outputs": [],
   "source": [
    "sixth_new_node = search_tree._expand(sixth_node)"
   ]
  },
  {
   "cell_type": "code",
   "execution_count": null,
   "id": "8e9efa66-defa-44f3-86fb-5f0b44ef0815",
   "metadata": {},
   "outputs": [],
   "source": [
    "search_tree._simulate(sixth_new_node, None)"
   ]
  },
  {
   "cell_type": "code",
   "execution_count": 66,
   "id": "4a2e0097-c623-4131-9b6d-6dd9dfcc0c37",
   "metadata": {},
   "outputs": [],
   "source": [
    "search_tree._backpropagate(sixth_new_node)"
   ]
  },
  {
   "cell_type": "code",
   "execution_count": null,
   "id": "1a7d6024-a3df-4b63-a1fe-f2b6f06533c0",
   "metadata": {},
   "outputs": [],
   "source": [
    "search_tree.display_uct(sixth_new_node)"
   ]
  },
  {
   "cell_type": "code",
   "execution_count": 68,
   "id": "e63ef5fb-a212-40ee-8d80-125bbf050b3a",
   "metadata": {},
   "outputs": [],
   "source": [
    "traj = get_trajectory(search_tree)"
   ]
  },
  {
   "cell_type": "code",
   "execution_count": 69,
   "id": "6a842443-035c-4a2a-a067-7311940e318b",
   "metadata": {},
   "outputs": [],
   "source": [
    "search_tree.persist()"
   ]
  },
  {
   "cell_type": "markdown",
   "id": "6a712c9a-6080-425d-97c9-12050ba5b4ff",
   "metadata": {},
   "source": [
    "## Seventh Rollout"
   ]
  },
  {
   "cell_type": "code",
   "execution_count": null,
   "id": "ee2973ed-0760-4e85-bd25-1fa846973950",
   "metadata": {},
   "outputs": [],
   "source": [
    "search_tree.is_finished()"
   ]
  },
  {
   "cell_type": "code",
   "execution_count": 71,
   "id": "36470128-d90a-4877-a825-9ab9101d9cb1",
   "metadata": {},
   "outputs": [],
   "source": [
    "seventh_node = search_tree._select(search_tree.root)"
   ]
  },
  {
   "cell_type": "code",
   "execution_count": null,
   "id": "80e6980b-3d68-471a-915f-a1783a788381",
   "metadata": {},
   "outputs": [],
   "source": [
    "seventh_new_node = search_tree._expand(seventh_node)"
   ]
  },
  {
   "cell_type": "code",
   "execution_count": null,
   "id": "44ea8297-4ee1-40eb-8fb9-3d9f42ef39d2",
   "metadata": {},
   "outputs": [],
   "source": [
    "search_tree._simulate(seventh_new_node, None)"
   ]
  },
  {
   "cell_type": "code",
   "execution_count": null,
   "id": "da827943-f207-4a88-aac6-03a3499dee86",
   "metadata": {},
   "outputs": [],
   "source": [
    "search_tree._backpropagate(seventh_new_node)"
   ]
  },
  {
   "cell_type": "code",
   "execution_count": null,
   "id": "320b9307-01d9-43c3-912b-d73831319370",
   "metadata": {},
   "outputs": [],
   "source": [
    "print(seventh_new_node.observation.properties['diff'])"
   ]
  },
  {
   "cell_type": "code",
   "execution_count": null,
   "id": "684dae88-84c8-4538-b024-b1a73eb26df4",
   "metadata": {},
   "outputs": [],
   "source": [
    "search_tree.display_uct(seventh_new_node)"
   ]
  },
  {
   "cell_type": "code",
   "execution_count": null,
   "id": "fc909b2b-7b61-44e8-ac99-affa3769dd18",
   "metadata": {},
   "outputs": [],
   "source": [
    "print(seventh_new_node.observation.properties['diff'])"
   ]
  },
  {
   "cell_type": "code",
   "execution_count": 78,
   "id": "98cc62db-69ca-48b3-97c4-1a3d3ec45ccd",
   "metadata": {},
   "outputs": [],
   "source": [
    "search_tree.persist()"
   ]
  },
  {
   "cell_type": "markdown",
   "id": "d2c2f4e1-71c4-49c8-ab05-1a68f2749144",
   "metadata": {},
   "source": [
    "## Eigth Rollout"
   ]
  },
  {
   "cell_type": "code",
   "execution_count": null,
   "id": "d7015fb3-72ad-4523-98ab-5e7f3d1e5307",
   "metadata": {},
   "outputs": [],
   "source": [
    "search_tree.is_finished()"
   ]
  },
  {
   "cell_type": "code",
   "execution_count": 80,
   "id": "3c37d6e7-7da4-4c29-8153-09063c078ef8",
   "metadata": {},
   "outputs": [],
   "source": [
    "eigth_node = search_tree._select(search_tree.root)"
   ]
  },
  {
   "cell_type": "code",
   "execution_count": null,
   "id": "e623277f-725f-417b-a20f-8076841b567f",
   "metadata": {},
   "outputs": [],
   "source": [
    "eigth_new_node = search_tree._expand(eigth_node)"
   ]
  },
  {
   "cell_type": "code",
   "execution_count": null,
   "id": "814af721-1ca2-4cc8-a153-e85fc5cfd151",
   "metadata": {},
   "outputs": [],
   "source": [
    "search_tree._simulate(eigth_new_node, None)"
   ]
  },
  {
   "cell_type": "code",
   "execution_count": null,
   "id": "4228ac1b-5589-4d68-b1c5-f4281a33f722",
   "metadata": {},
   "outputs": [],
   "source": [
    "print(eigth_new_node.observation.properties['diff'])"
   ]
  },
  {
   "cell_type": "code",
   "execution_count": 83,
   "id": "4baabf16-3635-4487-ba27-e9674a3d2dd7",
   "metadata": {},
   "outputs": [],
   "source": [
    "search_tree._backpropagate(eigth_new_node)"
   ]
  },
  {
   "cell_type": "markdown",
   "id": "bf1b036b-e2f7-43eb-9f8b-83bb481eb0a9",
   "metadata": {},
   "source": [
    "## Ninth Rollout"
   ]
  },
  {
   "cell_type": "code",
   "execution_count": 84,
   "id": "7a116cef-0882-4c9d-a8e4-cbd3bb17a0d9",
   "metadata": {},
   "outputs": [],
   "source": [
    "ninth_node = search_tree._select(search_tree.root)"
   ]
  },
  {
   "cell_type": "code",
   "execution_count": null,
   "id": "b6efecd5-b9d8-496f-aa40-7a48b4ce633f",
   "metadata": {},
   "outputs": [],
   "source": [
    "ninth_new_node = search_tree._expand(ninth_node)"
   ]
  },
  {
   "cell_type": "code",
   "execution_count": null,
   "id": "1450d1ea-a038-4fbc-9e0a-1d6d5a310d71",
   "metadata": {},
   "outputs": [],
   "source": [
    "search_tree._simulate(ninth_new_node, None)"
   ]
  },
  {
   "cell_type": "code",
   "execution_count": 87,
   "id": "1f90f0c1-7950-418d-9840-7fea83d0abde",
   "metadata": {},
   "outputs": [],
   "source": [
    "search_tree._backpropagate(ninth_new_node)"
   ]
  },
  {
   "cell_type": "code",
   "execution_count": 88,
   "id": "aabf6a50-4cb5-47b1-89ba-230a0453ac8e",
   "metadata": {},
   "outputs": [],
   "source": [
    "search_tree.persist()"
   ]
  },
  {
   "cell_type": "markdown",
   "id": "d22ad172-c92a-4fc5-93fd-fdcc1224c450",
   "metadata": {},
   "source": [
    "## Tenth Rollout"
   ]
  },
  {
   "cell_type": "code",
   "execution_count": 89,
   "id": "db681a06-340b-4af5-a29c-15eaa980b942",
   "metadata": {},
   "outputs": [],
   "source": [
    "tenth_node = search_tree._select(search_tree.root)"
   ]
  },
  {
   "cell_type": "code",
   "execution_count": null,
   "id": "69f87ef2-bdf8-4f4f-8dd8-610a9b445431",
   "metadata": {},
   "outputs": [],
   "source": [
    "tenth_new_node = search_tree._expand(tenth_node)"
   ]
  },
  {
   "cell_type": "code",
   "execution_count": null,
   "id": "613e293f-51fd-4492-a52d-a3508ce1fe94",
   "metadata": {},
   "outputs": [],
   "source": [
    "search_tree._simulate(tenth_new_node, None)"
   ]
  },
  {
   "cell_type": "code",
   "execution_count": 92,
   "id": "926e2afc-bb31-468c-b059-02bd62437ab2",
   "metadata": {},
   "outputs": [],
   "source": [
    "search_tree._backpropagate(tenth_new_node)"
   ]
  },
  {
   "cell_type": "markdown",
   "id": "ed3710f6-34e0-49a2-b592-e9048c0e5e44",
   "metadata": {},
   "source": [
    "## Eleventh Rollout"
   ]
  },
  {
   "cell_type": "code",
   "execution_count": 93,
   "id": "5abd7a37-9840-4303-8a47-639b5cf449ad",
   "metadata": {},
   "outputs": [],
   "source": [
    "eleventh_node = search_tree._select(search_tree.root)"
   ]
  },
  {
   "cell_type": "code",
   "execution_count": null,
   "id": "36f13aa4-acf9-488b-abc4-210b9d58a8cb",
   "metadata": {},
   "outputs": [],
   "source": [
    "eleventh_new_node = search_tree._expand(eleventh_node)"
   ]
  },
  {
   "cell_type": "code",
   "execution_count": null,
   "id": "87bf4aaf-7e54-44d9-8899-ea71d51cf2cf",
   "metadata": {},
   "outputs": [],
   "source": [
    "search_tree._simulate(eleventh_new_node)"
   ]
  },
  {
   "cell_type": "code",
   "execution_count": null,
   "id": "05853217-46dd-4400-89f2-697a54ec0bbe",
   "metadata": {},
   "outputs": [],
   "source": [
    "search_tree._backpropagate(eleventh_new_node)"
   ]
  },
  {
   "cell_type": "code",
   "execution_count": null,
   "id": "b5ec8f90-a5bc-4a83-86a2-24574955e06b",
   "metadata": {
    "collapsed": true,
    "jupyter": {
     "outputs_hidden": true
    }
   },
   "outputs": [],
   "source": [
    "search_tree.display_uct(eleventh_new_node)"
   ]
  },
  {
   "cell_type": "markdown",
   "id": "569bd0f3-315f-4b25-80d4-b3204e46f5c0",
   "metadata": {},
   "source": [
    "## Twelfth Rollout"
   ]
  },
  {
   "cell_type": "code",
   "execution_count": 98,
   "id": "db821a62-1643-4218-b961-92941c2732fe",
   "metadata": {},
   "outputs": [],
   "source": [
    "twelfth_node = search_tree._select(search_tree.root)"
   ]
  },
  {
   "cell_type": "code",
   "execution_count": null,
   "id": "7725eebf-237c-4190-9fe2-668a2566bee7",
   "metadata": {},
   "outputs": [],
   "source": [
    "twelfth_new_node = search_tree._expand(twelfth_node)"
   ]
  },
  {
   "cell_type": "code",
   "execution_count": null,
   "id": "773b89e1-7594-45a5-91b8-501dcdb68f2f",
   "metadata": {
    "collapsed": true,
    "jupyter": {
     "outputs_hidden": true
    }
   },
   "outputs": [],
   "source": [
    "search_tree._simulate(twelfth_new_node)"
   ]
  },
  {
   "cell_type": "code",
   "execution_count": null,
   "id": "8c4aec4d-ae48-4218-beff-dba57371d863",
   "metadata": {},
   "outputs": [],
   "source": [
    "search_tree._backpropagate(twelfth_new_node)"
   ]
  },
  {
   "cell_type": "code",
   "execution_count": 102,
   "id": "25250781-afa6-41b4-b133-84be7fb7f147",
   "metadata": {},
   "outputs": [],
   "source": [
    "search_tree.persist()"
   ]
  }
 ],
 "metadata": {
  "kernelspec": {
   "display_name": "venv",
   "language": "python",
   "name": "python3"
  },
  "language_info": {
   "codemirror_mode": {
    "name": "ipython",
    "version": 3
   },
   "file_extension": ".py",
   "mimetype": "text/x-python",
   "name": "python",
   "nbconvert_exporter": "python",
   "pygments_lexer": "ipython3",
   "version": "3.12.3"
  }
 },
 "nbformat": 4,
 "nbformat_minor": 5
}
